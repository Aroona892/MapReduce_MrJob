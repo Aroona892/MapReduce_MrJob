{
  "nbformat": 4,
  "nbformat_minor": 0,
  "metadata": {
    "colab": {
      "provenance": []
    },
    "kernelspec": {
      "name": "python3",
      "display_name": "Python 3"
    },
    "language_info": {
      "name": "python"
    }
  },
  "cells": [
    {
      "cell_type": "code",
      "execution_count": 8,
      "metadata": {
        "colab": {
          "base_uri": "https://localhost:8080/"
        },
        "id": "KaVeNhEd-l_l",
        "outputId": "a90a5084-abc3-4c66-9d68-20dceff76fab"
      },
      "outputs": [
        {
          "output_type": "stream",
          "name": "stdout",
          "text": [
            "Requirement already satisfied: mrjob in /usr/local/lib/python3.10/dist-packages (0.7.4)\n",
            "Requirement already satisfied: PyYAML>=3.10 in /usr/local/lib/python3.10/dist-packages (from mrjob) (6.0.1)\n"
          ]
        }
      ],
      "source": [
        "pip install mrjob"
      ]
    },
    {
      "cell_type": "code",
      "source": [
        "%%writefile rand.py\n",
        "from mrjob.job import MRJob\n",
        "\n",
        "class MRWordFrequencyCount(MRJob):\n",
        "\n",
        "    def mapper(self, _, line):\n",
        "        yield \"chars\", len(line)\n",
        "        yield \"words\", len(line.split())\n",
        "        yield \"lines\", 1\n",
        "\n",
        "    def reducer(self, key, values):\n",
        "        yield key, sum(values)\n",
        "\n",
        "\n",
        "if __name__ == '__main__':\n",
        "    MRWordFrequencyCount.run()"
      ],
      "metadata": {
        "colab": {
          "base_uri": "https://localhost:8080/"
        },
        "id": "UitwNSJ3-vn4",
        "outputId": "788fbb88-8e13-47ac-90d0-e859957135fd"
      },
      "execution_count": null,
      "outputs": [
        {
          "output_type": "stream",
          "name": "stdout",
          "text": [
            "Overwriting rand.py\n"
          ]
        }
      ]
    },
    {
      "cell_type": "code",
      "source": [
        "!python rand.py fdpp.txt"
      ],
      "metadata": {
        "colab": {
          "base_uri": "https://localhost:8080/"
        },
        "id": "PHe8GwVXB1d1",
        "outputId": "2a8b5924-d398-4cd3-c16f-abcca3ac2526"
      },
      "execution_count": 10,
      "outputs": [
        {
          "output_type": "stream",
          "name": "stdout",
          "text": [
            "No configs found; falling back on auto-configuration\n",
            "No configs specified for inline runner\n",
            "Creating temp directory /tmp/rand.root.20240302.081614.550916\n",
            "Running step 1 of 1...\n",
            "job output is in /tmp/rand.root.20240302.081614.550916/output\n",
            "Streaming final output from /tmp/rand.root.20240302.081614.550916/output...\n",
            "\"m\"\t4\n",
            "\"o\"\t1\n",
            "\"q\"\t1\n",
            "\"r\"\t3\n",
            "\"s\"\t2\n",
            "\"d\"\t1\n",
            "\"f\"\t3\n",
            "\"h\"\t2\n",
            "\"i\"\t3\n",
            "\"l\"\t4\n",
            "\"2\"\t1\n",
            "\"a\"\t6\n",
            "\"b\"\t2\n",
            "\"c\"\t2\n",
            "\"t\"\t6\n",
            "\"u\"\t1\n",
            "\"w\"\t1\n",
            "\"y\"\t1\n",
            "Removing temp directory /tmp/rand.root.20240302.081614.550916...\n"
          ]
        }
      ]
    },
    {
      "cell_type": "code",
      "source": [
        "%%writefile rand.py\n",
        "from mrjob.job import MRJob\n",
        "import re\n",
        "\n",
        "class WordsByAlphabet(MRJob):\n",
        "    def mapper(self, _, line):\n",
        "        words = re.findall(r'\\b\\w+\\b', line)\n",
        "        for word in words:\n",
        "            yield word[0].lower(), 1\n",
        "\n",
        "    def reducer(self, key, values):\n",
        "        yield key, sum(values)\n",
        "\n",
        "if __name__ == '__main__':\n",
        "    WordsByAlphabet.run()\n"
      ],
      "metadata": {
        "colab": {
          "base_uri": "https://localhost:8080/"
        },
        "id": "rRBwfaPJO4pw",
        "outputId": "d6aba087-ecee-4429-fe57-c7ad720fb33e"
      },
      "execution_count": 11,
      "outputs": [
        {
          "output_type": "stream",
          "name": "stdout",
          "text": [
            "Overwriting rand.py\n"
          ]
        }
      ]
    },
    {
      "cell_type": "code",
      "source": [
        "!python3 rand.py fdpp.txt"
      ],
      "metadata": {
        "colab": {
          "base_uri": "https://localhost:8080/"
        },
        "id": "UbaaAPhePF8w",
        "outputId": "9b8d6ccb-1bca-4974-a02e-1eb877f0e571"
      },
      "execution_count": 12,
      "outputs": [
        {
          "output_type": "stream",
          "name": "stdout",
          "text": [
            "No configs found; falling back on auto-configuration\n",
            "No configs specified for inline runner\n",
            "Creating temp directory /tmp/rand.root.20240302.081724.314937\n",
            "Running step 1 of 1...\n",
            "job output is in /tmp/rand.root.20240302.081724.314937/output\n",
            "Streaming final output from /tmp/rand.root.20240302.081724.314937/output...\n",
            "\"m\"\t4\n",
            "\"o\"\t1\n",
            "\"q\"\t1\n",
            "\"r\"\t3\n",
            "\"s\"\t2\n",
            "\"d\"\t1\n",
            "\"f\"\t3\n",
            "\"h\"\t2\n",
            "\"i\"\t3\n",
            "\"l\"\t4\n",
            "\"2\"\t1\n",
            "\"a\"\t6\n",
            "\"b\"\t2\n",
            "\"c\"\t2\n",
            "\"t\"\t6\n",
            "\"u\"\t1\n",
            "\"w\"\t1\n",
            "\"y\"\t1\n",
            "Removing temp directory /tmp/rand.root.20240302.081724.314937...\n"
          ]
        }
      ]
    },
    {
      "cell_type": "code",
      "source": [
        "%%writefile WordCountLength5.py\n",
        "from mrjob.job import MRJob\n",
        "import re\n",
        "\n",
        "class WordsByLength(MRJob):\n",
        "    def mapper(self, _, line):\n",
        "        words = re.findall(r'\\b\\w+\\b', line)\n",
        "        for word in words:\n",
        "            if len(word) == 5:\n",
        "                yield word.lower(), 1\n",
        "\n",
        "    def reducer(self, key, values):\n",
        "        yield key, sum(values)\n",
        "\n",
        "if __name__ == '__main__':\n",
        "    WordsByLength.run()"
      ],
      "metadata": {
        "colab": {
          "base_uri": "https://localhost:8080/"
        },
        "id": "9JPVrXtyPSnw",
        "outputId": "1b5b4d87-5173-4e1c-abd0-79721f82e6d1"
      },
      "execution_count": 13,
      "outputs": [
        {
          "output_type": "stream",
          "name": "stdout",
          "text": [
            "Writing WordCountLength5.py\n"
          ]
        }
      ]
    },
    {
      "cell_type": "code",
      "source": [
        "!python3 WordCountLength5.py Text_File.txt"
      ],
      "metadata": {
        "colab": {
          "base_uri": "https://localhost:8080/"
        },
        "id": "l2kjkxOIPWNI",
        "outputId": "6ea79ab3-40fc-48ba-9683-7e8591266796"
      },
      "execution_count": 14,
      "outputs": [
        {
          "output_type": "stream",
          "name": "stdout",
          "text": [
            "No configs found; falling back on auto-configuration\n",
            "No configs specified for inline runner\n",
            "Traceback (most recent call last):\n",
            "  File \"/content/WordCountLength5.py\", line 15, in <module>\n",
            "    WordsByLength.run()\n",
            "  File \"/usr/local/lib/python3.10/dist-packages/mrjob/job.py\", line 616, in run\n",
            "    cls().execute()\n",
            "  File \"/usr/local/lib/python3.10/dist-packages/mrjob/job.py\", line 687, in execute\n",
            "    self.run_job()\n",
            "  File \"/usr/local/lib/python3.10/dist-packages/mrjob/job.py\", line 636, in run_job\n",
            "    runner.run()\n",
            "  File \"/usr/local/lib/python3.10/dist-packages/mrjob/runner.py\", line 500, in run\n",
            "    self._check_input_paths()\n",
            "  File \"/usr/local/lib/python3.10/dist-packages/mrjob/runner.py\", line 1133, in _check_input_paths\n",
            "    self._check_input_path(path)\n",
            "  File \"/usr/local/lib/python3.10/dist-packages/mrjob/runner.py\", line 1146, in _check_input_path\n",
            "    raise IOError(\n",
            "OSError: Input path Text_File.txt does not exist!\n"
          ]
        }
      ]
    }
  ]
}